{
  "nbformat": 4,
  "nbformat_minor": 0,
  "metadata": {
    "colab": {
      "name": "Amazon_fake_reviews.ipynb",
      "provenance": [],
      "collapsed_sections": [
        "aW5wtFU3KeEB"
      ],
      "toc_visible": true,
      "include_colab_link": true
    },
    "kernelspec": {
      "display_name": "Python 3",
      "name": "python3"
    },
    "language_info": {
      "name": "python"
    }
  },
  "cells": [
    {
      "cell_type": "markdown",
      "metadata": {
        "id": "view-in-github",
        "colab_type": "text"
      },
      "source": [
        "<a href=\"https://colab.research.google.com/github/tuyiskevin/Fake_reviews/blob/main/Amazon_fake_reviews.ipynb\" target=\"_parent\"><img src=\"https://colab.research.google.com/assets/colab-badge.svg\" alt=\"Open In Colab\"/></a>"
      ]
    },
    {
      "cell_type": "markdown",
      "metadata": {
        "id": "gKpQNKLEKogv"
      },
      "source": [
        "### Importin Necessary Libraries"
      ]
    },
    {
      "cell_type": "code",
      "metadata": {
        "id": "HDkOtLvbKCsP"
      },
      "source": [
        "%matplotlib inline\n",
        "import pandas as pd\n",
        "import pandas_profiling as pdp\n",
        "import numpy as np\n",
        "import matplotlib.pyplot as plt\n",
        "\n",
        "# from matplotlib.colors import ListedColormap\n",
        "import seaborn as sns\n",
        "# import matplotlib.colors as colors\n",
        "import warnings\n",
        "warnings.filterwarnings('ignore')"
      ],
      "execution_count": 1,
      "outputs": []
    },
    {
      "cell_type": "markdown",
      "metadata": {
        "id": "aW5wtFU3KeEB"
      },
      "source": [
        "### Import data"
      ]
    },
    {
      "cell_type": "code",
      "metadata": {
        "colab": {
          "base_uri": "https://localhost:8080/"
        },
        "id": "4Lmu2MUyKJ_-",
        "outputId": "807661bd-6464-4737-b105-fcab0b54a1f4"
      },
      "source": [
        "#amazon dataset\n",
        "!wget https://raw.githubusercontent.com/tuyiskevin/Fake_reviews/main/Amazon_dataset%20\\(2\\).csv\n"
      ],
      "execution_count": 2,
      "outputs": [
        {
          "output_type": "stream",
          "text": [
            "--2021-05-10 01:35:04--  https://raw.githubusercontent.com/tuyiskevin/Fake_reviews/main/Amazon_dataset%20(2).csv\n",
            "Resolving raw.githubusercontent.com (raw.githubusercontent.com)... 185.199.110.133, 185.199.109.133, 185.199.108.133, ...\n",
            "Connecting to raw.githubusercontent.com (raw.githubusercontent.com)|185.199.110.133|:443... connected.\n",
            "HTTP request sent, awaiting response... 200 OK\n",
            "Length: 3850120 (3.7M) [text/plain]\n",
            "Saving to: ‘Amazon_dataset (2).csv’\n",
            "\n",
            "Amazon_dataset (2). 100%[===================>]   3.67M  --.-KB/s    in 0.04s   \n",
            "\n",
            "2021-05-10 01:35:04 (96.7 MB/s) - ‘Amazon_dataset (2).csv’ saved [3850120/3850120]\n",
            "\n"
          ],
          "name": "stdout"
        }
      ]
    },
    {
      "cell_type": "markdown",
      "metadata": {
        "id": "NYdv1JqWLDgp"
      },
      "source": [
        "# Data Exploration"
      ]
    },
    {
      "cell_type": "code",
      "metadata": {
        "id": "pGslhN1jLIgW"
      },
      "source": [
        "df= pd.read_csv('Amazon_dataset (2).csv')"
      ],
      "execution_count": 52,
      "outputs": []
    },
    {
      "cell_type": "code",
      "metadata": {
        "id": "YrX_TLI7h4vQ",
        "colab": {
          "base_uri": "https://localhost:8080/"
        },
        "outputId": "033bef0f-05ce-4cc8-8206-70c3bbe11736"
      },
      "source": [
        "df.info()"
      ],
      "execution_count": 53,
      "outputs": [
        {
          "output_type": "stream",
          "text": [
            "<class 'pandas.core.frame.DataFrame'>\n",
            "RangeIndex: 9649 entries, 0 to 9648\n",
            "Data columns (total 15 columns):\n",
            " #   Column             Non-Null Count  Dtype \n",
            "---  ------             --------------  ----- \n",
            " 0   marketplace        9649 non-null   object\n",
            " 1   customer_id        9649 non-null   int64 \n",
            " 2   review_id          9649 non-null   object\n",
            " 3   product_id         9649 non-null   object\n",
            " 4   product_parent     9649 non-null   int64 \n",
            " 5   product_title      9649 non-null   object\n",
            " 6   product_category   9649 non-null   object\n",
            " 7   star_rating        9649 non-null   int64 \n",
            " 8   helpful_votes      9649 non-null   int64 \n",
            " 9   total_votes        9649 non-null   int64 \n",
            " 10  vine               9649 non-null   object\n",
            " 11  verified_purchase  9649 non-null   object\n",
            " 12  review_headline    9649 non-null   object\n",
            " 13  review_body        9649 non-null   object\n",
            " 14  review_date        9649 non-null   object\n",
            "dtypes: int64(5), object(10)\n",
            "memory usage: 1.1+ MB\n"
          ],
          "name": "stdout"
        }
      ]
    },
    {
      "cell_type": "code",
      "metadata": {
        "id": "AGGZpd8GiEyf",
        "colab": {
          "base_uri": "https://localhost:8080/",
          "height": 847
        },
        "outputId": "0d03171b-6061-4fa0-fc97-3a114157d6a9"
      },
      "source": [
        "df.shape\n",
        "df.drop(columns=['marketplace','review_body','review_date'])\n"
      ],
      "execution_count": 54,
      "outputs": [
        {
          "output_type": "execute_result",
          "data": {
            "text/html": [
              "<div>\n",
              "<style scoped>\n",
              "    .dataframe tbody tr th:only-of-type {\n",
              "        vertical-align: middle;\n",
              "    }\n",
              "\n",
              "    .dataframe tbody tr th {\n",
              "        vertical-align: top;\n",
              "    }\n",
              "\n",
              "    .dataframe thead th {\n",
              "        text-align: right;\n",
              "    }\n",
              "</style>\n",
              "<table border=\"1\" class=\"dataframe\">\n",
              "  <thead>\n",
              "    <tr style=\"text-align: right;\">\n",
              "      <th></th>\n",
              "      <th>customer_id</th>\n",
              "      <th>review_id</th>\n",
              "      <th>product_id</th>\n",
              "      <th>product_parent</th>\n",
              "      <th>product_title</th>\n",
              "      <th>product_category</th>\n",
              "      <th>star_rating</th>\n",
              "      <th>helpful_votes</th>\n",
              "      <th>total_votes</th>\n",
              "      <th>vine</th>\n",
              "      <th>verified_purchase</th>\n",
              "      <th>review_headline</th>\n",
              "    </tr>\n",
              "  </thead>\n",
              "  <tbody>\n",
              "    <tr>\n",
              "      <th>0</th>\n",
              "      <td>650634</td>\n",
              "      <td>R3EQSTM9PWRAL</td>\n",
              "      <td>B0091LBZSU</td>\n",
              "      <td>578484426</td>\n",
              "      <td>Demograss Capsules Diet Pills Lose Weight</td>\n",
              "      <td>Health &amp; Personal Care</td>\n",
              "      <td>3</td>\n",
              "      <td>0</td>\n",
              "      <td>0</td>\n",
              "      <td>N</td>\n",
              "      <td>Y</td>\n",
              "      <td>Three Stars</td>\n",
              "    </tr>\n",
              "    <tr>\n",
              "      <th>1</th>\n",
              "      <td>19827510</td>\n",
              "      <td>RBWPRK17XKIXD</td>\n",
              "      <td>B00PWW3LQ6</td>\n",
              "      <td>456433146</td>\n",
              "      <td>Viva Labs #1 Premium Himalayan Organic Goji Be...</td>\n",
              "      <td>Health &amp; Personal Care</td>\n",
              "      <td>5</td>\n",
              "      <td>0</td>\n",
              "      <td>0</td>\n",
              "      <td>N</td>\n",
              "      <td>Y</td>\n",
              "      <td>A good portable snack</td>\n",
              "    </tr>\n",
              "    <tr>\n",
              "      <th>2</th>\n",
              "      <td>1520474</td>\n",
              "      <td>RRSLOAF273XFC</td>\n",
              "      <td>B00DKEWA92</td>\n",
              "      <td>460764511</td>\n",
              "      <td>Whip-it Cleaner</td>\n",
              "      <td>Health &amp; Personal Care</td>\n",
              "      <td>5</td>\n",
              "      <td>1</td>\n",
              "      <td>2</td>\n",
              "      <td>N</td>\n",
              "      <td>Y</td>\n",
              "      <td>You need this</td>\n",
              "    </tr>\n",
              "    <tr>\n",
              "      <th>3</th>\n",
              "      <td>23905905</td>\n",
              "      <td>R3S8W9Q6SWIT8O</td>\n",
              "      <td>B0015R3A7M</td>\n",
              "      <td>135102038</td>\n",
              "      <td>Optimum Nutrition Opti-Men Daily Multivitamin ...</td>\n",
              "      <td>Health &amp; Personal Care</td>\n",
              "      <td>4</td>\n",
              "      <td>0</td>\n",
              "      <td>0</td>\n",
              "      <td>N</td>\n",
              "      <td>Y</td>\n",
              "      <td>this is a good vitamin for men</td>\n",
              "    </tr>\n",
              "    <tr>\n",
              "      <th>4</th>\n",
              "      <td>28215779</td>\n",
              "      <td>R3QQ6NSLRVBFJC</td>\n",
              "      <td>B006B8U8BG</td>\n",
              "      <td>200666829</td>\n",
              "      <td>Wet-Stop3 Bedwetting Enuresis Alarm with Loud ...</td>\n",
              "      <td>Health &amp; Personal Care</td>\n",
              "      <td>4</td>\n",
              "      <td>0</td>\n",
              "      <td>0</td>\n",
              "      <td>N</td>\n",
              "      <td>Y</td>\n",
              "      <td>progress is definitely happening!!!!</td>\n",
              "    </tr>\n",
              "    <tr>\n",
              "      <th>...</th>\n",
              "      <td>...</td>\n",
              "      <td>...</td>\n",
              "      <td>...</td>\n",
              "      <td>...</td>\n",
              "      <td>...</td>\n",
              "      <td>...</td>\n",
              "      <td>...</td>\n",
              "      <td>...</td>\n",
              "      <td>...</td>\n",
              "      <td>...</td>\n",
              "      <td>...</td>\n",
              "      <td>...</td>\n",
              "    </tr>\n",
              "    <tr>\n",
              "      <th>9644</th>\n",
              "      <td>41618149</td>\n",
              "      <td>R3VC8DUIG6QPHL</td>\n",
              "      <td>B00P6TUO5G</td>\n",
              "      <td>170248843</td>\n",
              "      <td>Viva Naturals Organic Non-GMO Cacao Powder, 2 ...</td>\n",
              "      <td>Personal_Care_Appliances</td>\n",
              "      <td>5</td>\n",
              "      <td>0</td>\n",
              "      <td>0</td>\n",
              "      <td>N</td>\n",
              "      <td>Y</td>\n",
              "      <td>I love every item I purchased from Viva Labs</td>\n",
              "    </tr>\n",
              "    <tr>\n",
              "      <th>9645</th>\n",
              "      <td>32163339</td>\n",
              "      <td>R3BJ2SMWI3G4NN</td>\n",
              "      <td>B00H9L7VIW</td>\n",
              "      <td>851045898</td>\n",
              "      <td>boostULTIMATE - 60 Capsules - Increase Workout...</td>\n",
              "      <td>Personal_Care_Appliances</td>\n",
              "      <td>4</td>\n",
              "      <td>1</td>\n",
              "      <td>1</td>\n",
              "      <td>N</td>\n",
              "      <td>N</td>\n",
              "      <td>It's a winner</td>\n",
              "    </tr>\n",
              "    <tr>\n",
              "      <th>9646</th>\n",
              "      <td>24434268</td>\n",
              "      <td>R1XFDT3V12UP0B</td>\n",
              "      <td>B0002DMANU</td>\n",
              "      <td>753810402</td>\n",
              "      <td>Duoderm Extra Thin Cgf Dressing</td>\n",
              "      <td>Personal_Care_Appliances</td>\n",
              "      <td>5</td>\n",
              "      <td>0</td>\n",
              "      <td>0</td>\n",
              "      <td>N</td>\n",
              "      <td>Y</td>\n",
              "      <td>Good deal.</td>\n",
              "    </tr>\n",
              "    <tr>\n",
              "      <th>9647</th>\n",
              "      <td>35176990</td>\n",
              "      <td>R153GIL6NRUJS9</td>\n",
              "      <td>B009S2LB3Q</td>\n",
              "      <td>904166782</td>\n",
              "      <td>Mega Motion Lift Chair Easy Comfort Recliner L...</td>\n",
              "      <td>Personal_Care_Appliances</td>\n",
              "      <td>4</td>\n",
              "      <td>1</td>\n",
              "      <td>1</td>\n",
              "      <td>N</td>\n",
              "      <td>Y</td>\n",
              "      <td>Good value and quality for the money</td>\n",
              "    </tr>\n",
              "    <tr>\n",
              "      <th>9648</th>\n",
              "      <td>44399816</td>\n",
              "      <td>R1HJBMRDB084IW</td>\n",
              "      <td>B00XZJ2G46</td>\n",
              "      <td>217870256</td>\n",
              "      <td>Vision Spinner II Variable Voltage Battery, 16...</td>\n",
              "      <td>Personal_Care_Appliances</td>\n",
              "      <td>1</td>\n",
              "      <td>0</td>\n",
              "      <td>1</td>\n",
              "      <td>N</td>\n",
              "      <td>Y</td>\n",
              "      <td>Battery won't stay charged...</td>\n",
              "    </tr>\n",
              "  </tbody>\n",
              "</table>\n",
              "<p>9649 rows × 12 columns</p>\n",
              "</div>"
            ],
            "text/plain": [
              "      customer_id  ...                               review_headline\n",
              "0          650634  ...                                   Three Stars\n",
              "1        19827510  ...                         A good portable snack\n",
              "2         1520474  ...                                 You need this\n",
              "3        23905905  ...                this is a good vitamin for men\n",
              "4        28215779  ...          progress is definitely happening!!!!\n",
              "...           ...  ...                                           ...\n",
              "9644     41618149  ...  I love every item I purchased from Viva Labs\n",
              "9645     32163339  ...                                 It's a winner\n",
              "9646     24434268  ...                                    Good deal.\n",
              "9647     35176990  ...          Good value and quality for the money\n",
              "9648     44399816  ...                 Battery won't stay charged...\n",
              "\n",
              "[9649 rows x 12 columns]"
            ]
          },
          "metadata": {
            "tags": []
          },
          "execution_count": 54
        }
      ]
    },
    {
      "cell_type": "code",
      "metadata": {
        "id": "pF1xnOyvn4iq",
        "colab": {
          "base_uri": "https://localhost:8080/"
        },
        "outputId": "23ff2bd0-9060-421c-a463-220c240de735"
      },
      "source": [
        "df.isnull().sum() # checking for null"
      ],
      "execution_count": 55,
      "outputs": [
        {
          "output_type": "execute_result",
          "data": {
            "text/plain": [
              "marketplace          0\n",
              "customer_id          0\n",
              "review_id            0\n",
              "product_id           0\n",
              "product_parent       0\n",
              "product_title        0\n",
              "product_category     0\n",
              "star_rating          0\n",
              "helpful_votes        0\n",
              "total_votes          0\n",
              "vine                 0\n",
              "verified_purchase    0\n",
              "review_headline      0\n",
              "review_body          0\n",
              "review_date          0\n",
              "dtype: int64"
            ]
          },
          "metadata": {
            "tags": []
          },
          "execution_count": 55
        }
      ]
    },
    {
      "cell_type": "markdown",
      "metadata": {
        "id": "Dl6BU7qn3z83"
      },
      "source": [
        "#### Product distribution"
      ]
    },
    {
      "cell_type": "markdown",
      "metadata": {
        "id": "uSOjPKEXzx_C"
      },
      "source": [
        "### Understanding ratings distribution"
      ]
    },
    {
      "cell_type": "code",
      "metadata": {
        "id": "Hb2YT6pYr-6q",
        "colab": {
          "base_uri": "https://localhost:8080/",
          "height": 335
        },
        "outputId": "75520892-85a5-438c-a433-3393c7839e3d"
      },
      "source": [
        "plt.subplots(figsize=(13,5))\n",
        "sns.countplot(x='star_rating',data=df)\n",
        "plt.show()"
      ],
      "execution_count": 56,
      "outputs": [
        {
          "output_type": "display_data",
          "data": {
            "image/png": "[encoded data removed]",
            "text/plain": [
              "<Figure size 936x360 with 1 Axes>"
            ]
          },
          "metadata": {
            "tags": [],
            "needs_background": "light"
          }
        }
      ]
    },
    {
      "cell_type": "markdown",
      "metadata": {
        "id": "oXsgc3ar05NO"
      },
      "source": [
        "### Verification and vine program\n"
      ]
    },
    {
      "cell_type": "code",
      "metadata": {
        "id": "fk4z155r0-Rb",
        "colab": {
          "base_uri": "https://localhost:8080/",
          "height": 514
        },
        "outputId": "502c73f5-41b4-440b-d489-1138a778be58"
      },
      "source": [
        "fig, axes = plt.subplots(1, 2, figsize=(15, 8), sharey=True)\n",
        "\n",
        "sns.countplot(ax=axes[0],x='verified_purchase',data=df)\n",
        "axes[0].set_title(\"verified vs Univerified Purchases\")\n",
        "sns.countplot(ax=axes[1],x='vine',data=df)\n",
        "axes[1].set_title(\"vine Purchases\")\n",
        "plt.show()"
      ],
      "execution_count": 57,
      "outputs": [
        {
          "output_type": "display_data",
          "data": {
            "image/png": "[encoded data removed]",
            "text/plain": [
              "<Figure size 1080x576 with 2 Axes>"
            ]
          },
          "metadata": {
            "tags": [],
            "needs_background": "light"
          }
        }
      ]
    },
    {
      "cell_type": "markdown",
      "metadata": {
        "id": "cYLj9GOF2HyW"
      },
      "source": [
        "### Exploring univerified reviewers"
      ]
    },
    {
      "cell_type": "code",
      "metadata": {
        "id": "kgL4V7B82Oga",
        "colab": {
          "base_uri": "https://localhost:8080/",
          "height": 351
        },
        "outputId": "f82673e8-09c8-4668-8caa-10481d7a3d86"
      },
      "source": [
        "df_uni = df[(df.verified_purchase == 'N')]\n",
        "\n",
        "plt.subplots(figsize=(13,5))\n",
        "sns.countplot(x='star_rating',data=df_uni, hue='product_category')\n",
        "\n",
        "plt.title(\"Univerified reviews distribution\")\n",
        "plt.show()"
      ],
      "execution_count": 58,
      "outputs": [
        {
          "output_type": "display_data",
          "data": {
            "image/png": "[encoded data removed]",
            "text/plain": [
              "<Figure size 936x360 with 1 Axes>"
            ]
          },
          "metadata": {
            "tags": [],
            "needs_background": "light"
          }
        }
      ]
    },
    {
      "cell_type": "markdown",
      "metadata": {
        "id": "12N1M7AZ9m2f"
      },
      "source": [
        "#### How helpful are fake reviews"
      ]
    },
    {
      "cell_type": "code",
      "metadata": {
        "id": "SVD--aaw9y4G",
        "colab": {
          "base_uri": "https://localhost:8080/",
          "height": 351
        },
        "outputId": "6c48d72d-f96e-4501-f398-389798ab6911"
      },
      "source": [
        "df_uni['product_parent'].value_counts()\n",
        "df_uni_occ = df_uni[df_uni['product_parent']>5]\n",
        "df_kmean = df_uni_occ[['star_rating','helpful_votes']]\n",
        "\n",
        "plt.subplots(figsize=(13,5))\n",
        "sns.countplot(x='helpful_votes',data=df_uni, hue='product_category')\n",
        "plt.title(\"helpful votes for univerified reviews\")\n",
        "plt.show()"
      ],
      "execution_count": 59,
      "outputs": [
        {
          "output_type": "display_data",
          "data": {
            "image/png": "[encoded data removed]",
            "text/plain": [
              "<Figure size 936x360 with 1 Axes>"
            ]
          },
          "metadata": {
            "tags": [],
            "needs_background": "light"
          }
        }
      ]
    },
    {
      "cell_type": "markdown",
      "metadata": {
        "id": "6YHHRNSyhlcY"
      },
      "source": [
        "### Discovering patterns in The product ratings"
      ]
    },
    {
      "cell_type": "markdown",
      "metadata": {
        "id": "WK1himJIrP5L"
      },
      "source": [
        "### Potential Fake reviews"
      ]
    },
    {
      "cell_type": "code",
      "metadata": {
        "id": "1MiM5KVkrYGd"
      },
      "source": [
        "prod_count= df.groupby('product_parent',sort=False)['star_rating'].count()\n",
        "prod_count = pd.DataFrame({'product_parent':prod_count.index, 'count':prod_count.values})\n",
        "prod_avg = df.groupby('product_parent',sort=False)['star_rating'].mean().round(2)\n",
        "prod_avg = pd.DataFrame({'product_parent':prod_avg.index, 'mean_rating':prod_avg.values})"
      ],
      "execution_count": 60,
      "outputs": []
    },
    {
      "cell_type": "markdown",
      "metadata": {
        "id": "_y8AUd_KhqlU"
      },
      "source": [
        "####  Fake reviews (inflated rates)"
      ]
    },
    {
      "cell_type": "markdown",
      "metadata": {
        "id": "81cB_UlKxGGd"
      },
      "source": [
        "Products with less than 3 ratings with at least 5 reviews"
      ]
    },
    {
      "cell_type": "code",
      "metadata": {
        "colab": {
          "base_uri": "https://localhost:8080/"
        },
        "id": "6ONFfxgChoam",
        "outputId": "24e4c6f1-d7ee-4f66-ea53-67f2036579bb"
      },
      "source": [
        "prod_count2 = prod_count.loc[prod_count['count']>=2]\n",
        "prod_12 = prod_avg.loc[prod_avg['mean_rating']<=3]\n",
        "prod_2_3 = pd.merge(prod_count2,prod_12,how='inner',on=['product_parent'])\n",
        "\n",
        "fake_ir = pd.merge(prod_2_3,df_uni, how=\"inner\", on=['product_parent'] )\n",
        "fake_ir = fake_ir.loc[fake_ir['star_rating']>3] \n",
        "fake_ir.info() #14 reviews\n"
      ],
      "execution_count": 61,
      "outputs": [
        {
          "output_type": "stream",
          "text": [
            "<class 'pandas.core.frame.DataFrame'>\n",
            "Int64Index: 14 entries, 3 to 46\n",
            "Data columns (total 17 columns):\n",
            " #   Column             Non-Null Count  Dtype  \n",
            "---  ------             --------------  -----  \n",
            " 0   product_parent     14 non-null     int64  \n",
            " 1   count              14 non-null     int64  \n",
            " 2   mean_rating        14 non-null     float64\n",
            " 3   marketplace        14 non-null     object \n",
            " 4   customer_id        14 non-null     int64  \n",
            " 5   review_id          14 non-null     object \n",
            " 6   product_id         14 non-null     object \n",
            " 7   product_title      14 non-null     object \n",
            " 8   product_category   14 non-null     object \n",
            " 9   star_rating        14 non-null     int64  \n",
            " 10  helpful_votes      14 non-null     int64  \n",
            " 11  total_votes        14 non-null     int64  \n",
            " 12  vine               14 non-null     object \n",
            " 13  verified_purchase  14 non-null     object \n",
            " 14  review_headline    14 non-null     object \n",
            " 15  review_body        14 non-null     object \n",
            " 16  review_date        14 non-null     object \n",
            "dtypes: float64(1), int64(6), object(10)\n",
            "memory usage: 2.0+ KB\n"
          ],
          "name": "stdout"
        }
      ]
    },
    {
      "cell_type": "markdown",
      "metadata": {
        "id": "DzbhNBPJmY9W"
      },
      "source": [
        "#### Fake Reviews (deflated Rates)"
      ]
    },
    {
      "cell_type": "markdown",
      "metadata": {
        "id": "grvruEVnnYuf"
      },
      "source": [
        "Get all reviews with mean review of <3 rating and at least 3 reviews"
      ]
    },
    {
      "cell_type": "code",
      "metadata": {
        "colab": {
          "base_uri": "https://localhost:8080/"
        },
        "id": "fxiUA6h1md47",
        "outputId": "7c288366-3ff0-4adc-eb17-12ea9cb7aa9f"
      },
      "source": [
        "prod_count3 = prod_count.loc[prod_count['count']>=3]\n",
        "prod_3_3 = prod_avg.loc[prod_avg['mean_rating']>=3]\n",
        "prod_3_3 = pd.merge(prod_count3,prod_3_3,how='inner',on=['product_parent'])\n",
        "\n",
        "fake_dr = pd.merge(prod_2_3,df_uni, how=\"inner\", on=['product_parent'] )\n",
        "fake_dr = fake_dr.loc[(fake_dr['star_rating']<2)& (fake_dr['helpful_votes']<2)] \n",
        "fake_dr.info() #19 entries"
      ],
      "execution_count": 62,
      "outputs": [
        {
          "output_type": "stream",
          "text": [
            "<class 'pandas.core.frame.DataFrame'>\n",
            "Int64Index: 19 entries, 0 to 45\n",
            "Data columns (total 17 columns):\n",
            " #   Column             Non-Null Count  Dtype  \n",
            "---  ------             --------------  -----  \n",
            " 0   product_parent     19 non-null     int64  \n",
            " 1   count              19 non-null     int64  \n",
            " 2   mean_rating        19 non-null     float64\n",
            " 3   marketplace        19 non-null     object \n",
            " 4   customer_id        19 non-null     int64  \n",
            " 5   review_id          19 non-null     object \n",
            " 6   product_id         19 non-null     object \n",
            " 7   product_title      19 non-null     object \n",
            " 8   product_category   19 non-null     object \n",
            " 9   star_rating        19 non-null     int64  \n",
            " 10  helpful_votes      19 non-null     int64  \n",
            " 11  total_votes        19 non-null     int64  \n",
            " 12  vine               19 non-null     object \n",
            " 13  verified_purchase  19 non-null     object \n",
            " 14  review_headline    19 non-null     object \n",
            " 15  review_body        19 non-null     object \n",
            " 16  review_date        19 non-null     object \n",
            "dtypes: float64(1), int64(6), object(10)\n",
            "memory usage: 2.7+ KB\n"
          ],
          "name": "stdout"
        }
      ]
    },
    {
      "cell_type": "markdown",
      "metadata": {
        "id": "zI6N7STO5TkJ"
      },
      "source": [
        "#### One time review"
      ]
    },
    {
      "cell_type": "markdown",
      "metadata": {
        "id": "OQnpyFnjFfxL"
      },
      "source": [
        "One time reviewed products with higher or lower rating"
      ]
    },
    {
      "cell_type": "code",
      "metadata": {
        "colab": {
          "base_uri": "https://localhost:8080/"
        },
        "id": "c0lNv-3i5ZHY",
        "outputId": "3c604417-e253-4a56-de01-3372fa025c7d"
      },
      "source": [
        "prod_count1 = prod_count.loc[prod_count['count']==1]\n",
        "prod_15 = prod_avg.loc[(prod_avg['mean_rating']<=2) | (prod_avg['mean_rating']>=4)]\n",
        "prod_1_5 = pd.merge(prod_count1,prod_15,how='inner',on=['product_parent'])\n",
        "\n",
        "fake_1 = pd.merge(prod_1_5,df_uni, how=\"inner\", on=['product_parent'] )\n",
        "fake_1 = fake_1.loc[(fake_1['helpful_votes']<=2)]\n",
        "fake_1.info() # 309 entries"
      ],
      "execution_count": 63,
      "outputs": [
        {
          "output_type": "stream",
          "text": [
            "<class 'pandas.core.frame.DataFrame'>\n",
            "Int64Index: 309 entries, 0 to 363\n",
            "Data columns (total 17 columns):\n",
            " #   Column             Non-Null Count  Dtype  \n",
            "---  ------             --------------  -----  \n",
            " 0   product_parent     309 non-null    int64  \n",
            " 1   count              309 non-null    int64  \n",
            " 2   mean_rating        309 non-null    float64\n",
            " 3   marketplace        309 non-null    object \n",
            " 4   customer_id        309 non-null    int64  \n",
            " 5   review_id          309 non-null    object \n",
            " 6   product_id         309 non-null    object \n",
            " 7   product_title      309 non-null    object \n",
            " 8   product_category   309 non-null    object \n",
            " 9   star_rating        309 non-null    int64  \n",
            " 10  helpful_votes      309 non-null    int64  \n",
            " 11  total_votes        309 non-null    int64  \n",
            " 12  vine               309 non-null    object \n",
            " 13  verified_purchase  309 non-null    object \n",
            " 14  review_headline    309 non-null    object \n",
            " 15  review_body        309 non-null    object \n",
            " 16  review_date        309 non-null    object \n",
            "dtypes: float64(1), int64(6), object(10)\n",
            "memory usage: 43.5+ KB\n"
          ],
          "name": "stdout"
        }
      ]
    },
    {
      "cell_type": "markdown",
      "metadata": {
        "id": "EqEcrER-rqcK"
      },
      "source": [
        "### Consolidating and labelling"
      ]
    },
    {
      "cell_type": "code",
      "metadata": {
        "id": "szupIDMLrwTo"
      },
      "source": [
        "fake_reviews = pd.concat([fake_ir,fake_dr,fake_1])"
      ],
      "execution_count": 64,
      "outputs": []
    },
    {
      "cell_type": "markdown",
      "metadata": {
        "id": "snWLgS5vQ1gp"
      },
      "source": [
        "####  Visualization"
      ]
    },
    {
      "cell_type": "code",
      "metadata": {
        "colab": {
          "base_uri": "https://localhost:8080/",
          "height": 351
        },
        "id": "Y-iJTzMoQ3kK",
        "outputId": "3e0b57c3-660f-446f-81ee-4c70e60a60dd"
      },
      "source": [
        "plt.subplots(figsize=(13,5))\n",
        "sns.barplot(x=\"mean_rating\", y=\"count\", hue=\"product_category\", data=fake_reviews);\n",
        "plt.title(\"District of fake Reviews\")\n",
        "plt.show()"
      ],
      "execution_count": 65,
      "outputs": [
        {
          "output_type": "display_data",
          "data": {
            "image/png": "[encoded data removed]",
            "text/plain": [
              "<Figure size 936x360 with 1 Axes>"
            ]
          },
          "metadata": {
            "tags": [],
            "needs_background": "light"
          }
        }
      ]
    },
    {
      "cell_type": "markdown",
      "metadata": {
        "id": "anykqcVPQuvD"
      },
      "source": [
        "Export the data"
      ]
    },
    {
      "cell_type": "code",
      "metadata": {
        "colab": {
          "base_uri": "https://localhost:8080/"
        },
        "id": "Kph0ze-NQtiy",
        "outputId": "2010f6bb-e76d-4e5e-ab03-1ef99dc5fc27"
      },
      "source": [
        "fake_reviews['labels']=1\n",
        "df['labels'] = 0\n",
        "fake_reviews = fake_reviews.drop(columns=['count','mean_rating','marketplace','review_body','review_date'])\n",
        "cond = df['review_id'].isin(fake_reviews['review_id'])\n",
        "df.drop(df[cond].index, inplace = True)\n",
        "# labeled dataset\n",
        "df_new = pd.concat([df,fake_reviews])\n",
        "df_new.reset_index(drop=True, inplace=True)\n",
        "df_new.info()\n",
        "\n",
        "# Exporting the newly created\n",
        "df_new.to_csv('Fake_review.csv', index=False)"
      ],
      "execution_count": 66,
      "outputs": [
        {
          "output_type": "stream",
          "text": [
            "<class 'pandas.core.frame.DataFrame'>\n",
            "RangeIndex: 9649 entries, 0 to 9648\n",
            "Data columns (total 16 columns):\n",
            " #   Column             Non-Null Count  Dtype \n",
            "---  ------             --------------  ----- \n",
            " 0   marketplace        9307 non-null   object\n",
            " 1   customer_id        9649 non-null   int64 \n",
            " 2   review_id          9649 non-null   object\n",
            " 3   product_id         9649 non-null   object\n",
            " 4   product_parent     9649 non-null   int64 \n",
            " 5   product_title      9649 non-null   object\n",
            " 6   product_category   9649 non-null   object\n",
            " 7   star_rating        9649 non-null   int64 \n",
            " 8   helpful_votes      9649 non-null   int64 \n",
            " 9   total_votes        9649 non-null   int64 \n",
            " 10  vine               9649 non-null   object\n",
            " 11  verified_purchase  9649 non-null   object\n",
            " 12  review_headline    9649 non-null   object\n",
            " 13  review_body        9307 non-null   object\n",
            " 14  review_date        9307 non-null   object\n",
            " 15  labels             9649 non-null   int64 \n",
            "dtypes: int64(6), object(10)\n",
            "memory usage: 1.2+ MB\n"
          ],
          "name": "stdout"
        }
      ]
    },
    {
      "cell_type": "markdown",
      "metadata": {
        "id": "IkMS7JH62TeI"
      },
      "source": [
        "#Machine larning Model"
      ]
    },
    {
      "cell_type": "markdown",
      "metadata": {
        "id": "VRBYqCRoP6WE"
      },
      "source": [
        "Import the data"
      ]
    },
    {
      "cell_type": "code",
      "metadata": {
        "id": "wAvFwWgkP-RQ"
      },
      "source": [
        "from collections import Counter\n",
        "from imblearn.under_sampling import RandomUnderSampler\n",
        "from imblearn.pipeline import Pipeline\n",
        "from imblearn.over_sampling import SMOTE\n",
        "from numpy import where\n",
        "from sklearn.model_selection import train_test_split\n",
        "from sklearn import metrics\n",
        "from sklearn.linear_model import LogisticRegressionCV\n",
        "from sklearn.ensemble import RandomForestClassifier\n",
        "from sklearn.preprocessing import LabelEncoder\n",
        "from sklearn.metrics import silhouette_score, accuracy_score \n",
        "\n",
        "# ! wget https://raw.githubusercontent.com/tuyiskevin/Fake_reviews/main/Fake_review.csv"
      ],
      "execution_count": 67,
      "outputs": []
    },
    {
      "cell_type": "code",
      "metadata": {
        "colab": {
          "base_uri": "https://localhost:8080/",
          "height": 428
        },
        "id": "ykTjUpkO2ZTI",
        "outputId": "8c4fef13-78e2-4ede-bb3d-baa2ee307410"
      },
      "source": [
        "df_r = pd.read_csv('Fake_review.csv')\n",
        "df_r.head()"
      ],
      "execution_count": 68,
      "outputs": [
        {
          "output_type": "execute_result",
          "data": {
            "text/html": [
              "<div>\n",
              "<style scoped>\n",
              "    .dataframe tbody tr th:only-of-type {\n",
              "        vertical-align: middle;\n",
              "    }\n",
              "\n",
              "    .dataframe tbody tr th {\n",
              "        vertical-align: top;\n",
              "    }\n",
              "\n",
              "    .dataframe thead th {\n",
              "        text-align: right;\n",
              "    }\n",
              "</style>\n",
              "<table border=\"1\" class=\"dataframe\">\n",
              "  <thead>\n",
              "    <tr style=\"text-align: right;\">\n",
              "      <th></th>\n",
              "      <th>customer_id</th>\n",
              "      <th>review_id</th>\n",
              "      <th>product_id</th>\n",
              "      <th>product_parent</th>\n",
              "      <th>product_title</th>\n",
              "      <th>product_category</th>\n",
              "      <th>star_rating</th>\n",
              "      <th>helpful_votes</th>\n",
              "      <th>total_votes</th>\n",
              "      <th>vine</th>\n",
              "      <th>verified_purchase</th>\n",
              "      <th>review_headline</th>\n",
              "      <th>labels</th>\n",
              "    </tr>\n",
              "  </thead>\n",
              "  <tbody>\n",
              "    <tr>\n",
              "      <th>0</th>\n",
              "      <td>650634</td>\n",
              "      <td>R3EQSTM9PWRAL</td>\n",
              "      <td>B0091LBZSU</td>\n",
              "      <td>578484426</td>\n",
              "      <td>Demograss Capsules Diet Pills Lose Weight</td>\n",
              "      <td>Health &amp; Personal Care</td>\n",
              "      <td>3</td>\n",
              "      <td>0</td>\n",
              "      <td>0</td>\n",
              "      <td>N</td>\n",
              "      <td>Y</td>\n",
              "      <td>Three Stars</td>\n",
              "      <td>0</td>\n",
              "    </tr>\n",
              "    <tr>\n",
              "      <th>1</th>\n",
              "      <td>19827510</td>\n",
              "      <td>RBWPRK17XKIXD</td>\n",
              "      <td>B00PWW3LQ6</td>\n",
              "      <td>456433146</td>\n",
              "      <td>Viva Labs #1 Premium Himalayan Organic Goji Be...</td>\n",
              "      <td>Health &amp; Personal Care</td>\n",
              "      <td>5</td>\n",
              "      <td>0</td>\n",
              "      <td>0</td>\n",
              "      <td>N</td>\n",
              "      <td>Y</td>\n",
              "      <td>A good portable snack</td>\n",
              "      <td>0</td>\n",
              "    </tr>\n",
              "    <tr>\n",
              "      <th>2</th>\n",
              "      <td>1520474</td>\n",
              "      <td>RRSLOAF273XFC</td>\n",
              "      <td>B00DKEWA92</td>\n",
              "      <td>460764511</td>\n",
              "      <td>Whip-it Cleaner</td>\n",
              "      <td>Health &amp; Personal Care</td>\n",
              "      <td>5</td>\n",
              "      <td>1</td>\n",
              "      <td>2</td>\n",
              "      <td>N</td>\n",
              "      <td>Y</td>\n",
              "      <td>You need this</td>\n",
              "      <td>0</td>\n",
              "    </tr>\n",
              "    <tr>\n",
              "      <th>3</th>\n",
              "      <td>23905905</td>\n",
              "      <td>R3S8W9Q6SWIT8O</td>\n",
              "      <td>B0015R3A7M</td>\n",
              "      <td>135102038</td>\n",
              "      <td>Optimum Nutrition Opti-Men Daily Multivitamin ...</td>\n",
              "      <td>Health &amp; Personal Care</td>\n",
              "      <td>4</td>\n",
              "      <td>0</td>\n",
              "      <td>0</td>\n",
              "      <td>N</td>\n",
              "      <td>Y</td>\n",
              "      <td>this is a good vitamin for men</td>\n",
              "      <td>0</td>\n",
              "    </tr>\n",
              "    <tr>\n",
              "      <th>4</th>\n",
              "      <td>28215779</td>\n",
              "      <td>R3QQ6NSLRVBFJC</td>\n",
              "      <td>B006B8U8BG</td>\n",
              "      <td>200666829</td>\n",
              "      <td>Wet-Stop3 Bedwetting Enuresis Alarm with Loud ...</td>\n",
              "      <td>Health &amp; Personal Care</td>\n",
              "      <td>4</td>\n",
              "      <td>0</td>\n",
              "      <td>0</td>\n",
              "      <td>N</td>\n",
              "      <td>Y</td>\n",
              "      <td>progress is definitely happening!!!!</td>\n",
              "      <td>0</td>\n",
              "    </tr>\n",
              "  </tbody>\n",
              "</table>\n",
              "</div>"
            ],
            "text/plain": [
              "   customer_id       review_id  ...                       review_headline  labels\n",
              "0       650634   R3EQSTM9PWRAL  ...                           Three Stars       0\n",
              "1     19827510   RBWPRK17XKIXD  ...                 A good portable snack       0\n",
              "2      1520474   RRSLOAF273XFC  ...                         You need this       0\n",
              "3     23905905  R3S8W9Q6SWIT8O  ...        this is a good vitamin for men       0\n",
              "4     28215779  R3QQ6NSLRVBFJC  ...  progress is definitely happening!!!!       0\n",
              "\n",
              "[5 rows x 13 columns]"
            ]
          },
          "metadata": {
            "tags": []
          },
          "execution_count": 68
        }
      ]
    },
    {
      "cell_type": "markdown",
      "metadata": {
        "id": "shZlkSblXqM8"
      },
      "source": [
        "### Models for training"
      ]
    },
    {
      "cell_type": "code",
      "metadata": {
        "colab": {
          "base_uri": "https://localhost:8080/",
          "height": 173
        },
        "id": "U0i6X7-iXuAm",
        "outputId": "2ae97032-3a58-4876-cc6f-80e00f4d5354"
      },
      "source": [
        "labels = df_r[[\"labels\"]]\n",
        "df_x = df_r.drop(columns=[\"labels\",\"product_title\",\"review_headline\",\"review_id\", \"vine\", \"product_id\"])\n",
        "\n",
        "#encode columns\n",
        "encoder = LabelEncoder()\n",
        "df_x['product_category'] = encoder.fit_transform(df_x[\"product_category\"])\n",
        "df_x['verified_purchase'] = encoder.fit_transform(df_x[\"verified_purchase\"])\n",
        "df_x.head(4)\n",
        "# split data into training and testing sets\n"
      ],
      "execution_count": 69,
      "outputs": [
        {
          "output_type": "execute_result",
          "data": {
            "text/html": [
              "<div>\n",
              "<style scoped>\n",
              "    .dataframe tbody tr th:only-of-type {\n",
              "        vertical-align: middle;\n",
              "    }\n",
              "\n",
              "    .dataframe tbody tr th {\n",
              "        vertical-align: top;\n",
              "    }\n",
              "\n",
              "    .dataframe thead th {\n",
              "        text-align: right;\n",
              "    }\n",
              "</style>\n",
              "<table border=\"1\" class=\"dataframe\">\n",
              "  <thead>\n",
              "    <tr style=\"text-align: right;\">\n",
              "      <th></th>\n",
              "      <th>customer_id</th>\n",
              "      <th>product_parent</th>\n",
              "      <th>product_category</th>\n",
              "      <th>star_rating</th>\n",
              "      <th>helpful_votes</th>\n",
              "      <th>total_votes</th>\n",
              "      <th>verified_purchase</th>\n",
              "    </tr>\n",
              "  </thead>\n",
              "  <tbody>\n",
              "    <tr>\n",
              "      <th>0</th>\n",
              "      <td>650634</td>\n",
              "      <td>578484426</td>\n",
              "      <td>0</td>\n",
              "      <td>3</td>\n",
              "      <td>0</td>\n",
              "      <td>0</td>\n",
              "      <td>1</td>\n",
              "    </tr>\n",
              "    <tr>\n",
              "      <th>1</th>\n",
              "      <td>19827510</td>\n",
              "      <td>456433146</td>\n",
              "      <td>0</td>\n",
              "      <td>5</td>\n",
              "      <td>0</td>\n",
              "      <td>0</td>\n",
              "      <td>1</td>\n",
              "    </tr>\n",
              "    <tr>\n",
              "      <th>2</th>\n",
              "      <td>1520474</td>\n",
              "      <td>460764511</td>\n",
              "      <td>0</td>\n",
              "      <td>5</td>\n",
              "      <td>1</td>\n",
              "      <td>2</td>\n",
              "      <td>1</td>\n",
              "    </tr>\n",
              "    <tr>\n",
              "      <th>3</th>\n",
              "      <td>23905905</td>\n",
              "      <td>135102038</td>\n",
              "      <td>0</td>\n",
              "      <td>4</td>\n",
              "      <td>0</td>\n",
              "      <td>0</td>\n",
              "      <td>1</td>\n",
              "    </tr>\n",
              "  </tbody>\n",
              "</table>\n",
              "</div>"
            ],
            "text/plain": [
              "   customer_id  product_parent  ...  total_votes  verified_purchase\n",
              "0       650634       578484426  ...            0                  1\n",
              "1     19827510       456433146  ...            0                  1\n",
              "2      1520474       460764511  ...            2                  1\n",
              "3     23905905       135102038  ...            0                  1\n",
              "\n",
              "[4 rows x 7 columns]"
            ]
          },
          "metadata": {
            "tags": []
          },
          "execution_count": 69
        }
      ]
    },
    {
      "cell_type": "markdown",
      "metadata": {
        "id": "1QI4KdYUz_HT"
      },
      "source": [
        "Split the data"
      ]
    },
    {
      "cell_type": "code",
      "metadata": {
        "colab": {
          "base_uri": "https://localhost:8080/"
        },
        "id": "B05UUZOfz698",
        "outputId": "f9309278-48c8-4dde-9fb2-232be4e16b3e"
      },
      "source": [
        "X_train, X_test, y_train, y_test = train_test_split(df_x, labels , test_size=0.33, random_state=42)\n",
        "print(len(X_train))\n",
        "print(y_test)"
      ],
      "execution_count": 70,
      "outputs": [
        {
          "output_type": "stream",
          "text": [
            "6464\n",
            "      labels\n",
            "2997       0\n",
            "8074       0\n",
            "4012       0\n",
            "2392       0\n",
            "3284       0\n",
            "...      ...\n",
            "2952       0\n",
            "1350       0\n",
            "8134       0\n",
            "1811       0\n",
            "3555       0\n",
            "\n",
            "[3185 rows x 1 columns]\n"
          ],
          "name": "stdout"
        }
      ]
    },
    {
      "cell_type": "markdown",
      "metadata": {
        "id": "bOjrDZSAcqDd"
      },
      "source": [
        "#### Logistic Regression"
      ]
    },
    {
      "cell_type": "code",
      "metadata": {
        "colab": {
          "base_uri": "https://localhost:8080/",
          "height": 296
        },
        "id": "vhGYS8ZQcudU",
        "outputId": "6744b586-9374-4ce5-c869-21aae7fe013a"
      },
      "source": [
        "l_model = LogisticRegressionCV(cv=5,random_state=0)\n",
        "\n",
        "l_model.fit(X_train,y_train)\n",
        "y_pred = l_model.predict(X_test)\n",
        "\n",
        "accuracy = metrics.accuracy_score(y_test, y_pred)\n",
        "precision = metrics.precision_score(y_test, y_pred)\n",
        "recall = metrics.recall_score(y_test, y_pred)\n",
        "f_measure = metrics.f1_score(y_test, y_pred)\n",
        "tn, fp, fn, tp = metrics.confusion_matrix(y_test, y_pred).ravel()\n",
        "sensitivity = (tp / (tp + fn))\n",
        "specificity = (tn / (tn + fp))\n",
        "results = {'accuracy': accuracy, 'precision': precision,\n",
        "               'recall': recall, 'f_measure': f_measure,\n",
        "               'specificity': specificity,\n",
        "               'sensitivity': sensitivity}\n",
        "\n",
        "print(results)\n",
        "\n",
        "y_probas = l_model.predict_proba(X_test);\n",
        "metrics.plot_roc_curve(l_model,X_test,y_test)\n",
        "plt.show()"
      ],
      "execution_count": 71,
      "outputs": [
        {
          "output_type": "stream",
          "text": [
            "{'accuracy': 0.9638932496075353, 'precision': 0.0, 'recall': 0.0, 'f_measure': 0.0, 'specificity': 1.0, 'sensitivity': 0.0}\n"
          ],
          "name": "stdout"
        },
        {
          "output_type": "display_data",
          "data": {
            "image/png": "[encoded data removed]",
            "text/plain": [
              "<Figure size 432x288 with 1 Axes>"
            ]
          },
          "metadata": {
            "tags": [],
            "needs_background": "light"
          }
        }
      ]
    },
    {
      "cell_type": "markdown",
      "metadata": {
        "id": "M1uD89zOyiSH"
      },
      "source": [
        "Great result but terrible specificity as exemplified by the f-score of 0.\n",
        "This imbalance is mainly caused by the the small percentage of fake reviews present in our dataset. we can overcome this using Synthetic Minority Oversampling Technique(SMOTE)"
      ]
    },
    {
      "cell_type": "markdown",
      "metadata": {
        "id": "GgHejcQPAxwO"
      },
      "source": [
        "Current label classes look like this"
      ]
    },
    {
      "cell_type": "code",
      "metadata": {
        "colab": {
          "base_uri": "https://localhost:8080/",
          "height": 279
        },
        "id": "SQHKJjDaA3xn",
        "outputId": "0a715ff6-f639-4cd9-fff9-1c0b723d97e5"
      },
      "source": [
        "counter = Counter(labels)\n",
        "\n",
        "# for label, _ in counter.items():\n",
        "# \trow_ix = where(labels == label)[0]\n",
        "# \tplt.scatter(df_r[row_ix, 0], df_r[row_ix, 12], label=str(label))\n",
        "sns.countplot(data=df_r, x=\"labels\", hue=\"labels\")\n",
        "plt.legend()\n",
        "plt.show()"
      ],
      "execution_count": 72,
      "outputs": [
        {
          "output_type": "display_data",
          "data": {
            "image/png": "[encoded data removed]",
            "text/plain": [
              "<Figure size 432x288 with 1 Axes>"
            ]
          },
          "metadata": {
            "tags": [],
            "needs_background": "light"
          }
        }
      ]
    },
    {
      "cell_type": "markdown",
      "metadata": {
        "id": "KONwyJ_vAHIW"
      },
      "source": [
        "### Up-sampling with SMOTE method"
      ]
    },
    {
      "cell_type": "code",
      "metadata": {
        "colab": {
          "base_uri": "https://localhost:8080/",
          "height": 265
        },
        "id": "TpgAI0KYALu6",
        "outputId": "ba25f9dd-7f02-48bb-a1b0-889635253a89"
      },
      "source": [
        "over = SMOTE(sampling_strategy=0.1)\n",
        "under = RandomUnderSampler(sampling_strategy=0.5)\n",
        "steps = [('o', over), ('u', under)]\n",
        "pipeline = Pipeline(steps=steps)\n",
        "# transform the dataset\n",
        "X, y = pipeline.fit_resample(df_x, labels)\n",
        "sns.countplot(x=y)\n",
        "plt.show()"
      ],
      "execution_count": 73,
      "outputs": [
        {
          "output_type": "display_data",
          "data": {
            "image/png": "[encoded data removed]",
            "text/plain": [
              "<Figure size 432x288 with 1 Axes>"
            ]
          },
          "metadata": {
            "tags": [],
            "needs_background": "light"
          }
        }
      ]
    },
    {
      "cell_type": "markdown",
      "metadata": {
        "id": "a_JkUCkoIap2"
      },
      "source": [
        "Re run The logistic model on the upsampled data"
      ]
    },
    {
      "cell_type": "markdown",
      "metadata": {
        "id": "kc9oHASSIvIz"
      },
      "source": [
        "Split the data again"
      ]
    },
    {
      "cell_type": "code",
      "metadata": {
        "colab": {
          "base_uri": "https://localhost:8080/"
        },
        "id": "NXJ5H1INIw_I",
        "outputId": "7a18d1e4-9b24-4ce8-bfb8-853fc7e609d2"
      },
      "source": [
        "X_train_, X_test_, y_train_, y_test_ = train_test_split(X, y , test_size=0.33,random_state=42)\n",
        "print(X_test)"
      ],
      "execution_count": 74,
      "outputs": [
        {
          "output_type": "stream",
          "text": [
            "      customer_id  product_parent  ...  total_votes  verified_purchase\n",
            "2997     51875544       803008203  ...            1                  1\n",
            "8074       147053       851045898  ...            3                  0\n",
            "4012     12511385       742440014  ...            0                  1\n",
            "2392     11770549       802050753  ...            0                  1\n",
            "3284     16166868       536367292  ...            0                  1\n",
            "...           ...             ...  ...          ...                ...\n",
            "2952     27897382       353925130  ...            0                  1\n",
            "1350     35741966        97495019  ...            1                  1\n",
            "8134     19138829       851045898  ...            0                  0\n",
            "1811     26419701       141009874  ...            1                  1\n",
            "3555       158576       205524315  ...            0                  1\n",
            "\n",
            "[3185 rows x 7 columns]\n"
          ],
          "name": "stdout"
        }
      ]
    },
    {
      "cell_type": "markdown",
      "metadata": {
        "id": "tlAd-Zd3Ix1h"
      },
      "source": [
        "Run Model"
      ]
    },
    {
      "cell_type": "code",
      "metadata": {
        "colab": {
          "base_uri": "https://localhost:8080/",
          "height": 296
        },
        "id": "xzG8gsbyIekj",
        "outputId": "cd183d88-2c61-434b-d70a-7ee805f34a40"
      },
      "source": [
        "l_model.fit(X_train_,y_train_)\n",
        "y_pred = l_model.predict(X_test_)\n",
        "\n",
        "accuracy = metrics.accuracy_score(y_test_, y_pred)\n",
        "precision = metrics.precision_score(y_test_, y_pred)\n",
        "recall = metrics.recall_score(y_test_, y_pred)\n",
        "f_measure = metrics.f1_score(y_test_, y_pred)\n",
        "tn, fp, fn, tp = metrics.confusion_matrix(y_test_, y_pred).ravel()\n",
        "sensitivity = (tp / (tp + fn))\n",
        "specificity = (tn / (tn + fp))\n",
        "results = {'accuracy': accuracy, 'precision': precision,\n",
        "               'recall': recall, 'f_measure': f_measure,\n",
        "               'specificity': specificity,\n",
        "               'sensitivity': sensitivity}\n",
        "\n",
        "print(results)\n",
        "metrics.plot_roc_curve(l_model,X_test_,y_test_)\n",
        "plt.show()"
      ],
      "execution_count": 75,
      "outputs": [
        {
          "output_type": "stream",
          "text": [
            "{'accuracy': 0.6666666666666666, 'precision': 0.0, 'recall': 0.0, 'f_measure': 0.0, 'specificity': 1.0, 'sensitivity': 0.0}\n"
          ],
          "name": "stdout"
        },
        {
          "output_type": "display_data",
          "data": {
            "image/png": "[encoded data removed]",
            "text/plain": [
              "<Figure size 432x288 with 1 Axes>"
            ]
          },
          "metadata": {
            "tags": [],
            "needs_background": "light"
          }
        }
      ]
    },
    {
      "cell_type": "markdown",
      "metadata": {
        "id": "JZDuSUUjyrVs"
      },
      "source": [
        "#### Decisition tree"
      ]
    },
    {
      "cell_type": "code",
      "metadata": {
        "colab": {
          "base_uri": "https://localhost:8080/",
          "height": 316
        },
        "id": "OUPH4qPpyu_L",
        "outputId": "a00ebf0f-d842-4716-c1eb-370d4e8b0a08"
      },
      "source": [
        "l_model = RandomForestClassifier(max_depth=5, random_state=0)\n",
        "l_model.fit(X_train,y_train)\n",
        "y_pred = l_model.predict(X_test)\n",
        "\n",
        "accuracy = metrics.accuracy_score(y_test, y_pred)\n",
        "precision = metrics.precision_score(y_test, y_pred)\n",
        "recall = metrics.recall_score(y_test, y_pred)\n",
        "f_measure = metrics.f1_score(y_test, y_pred)\n",
        "tn, fp, fn, tp = metrics.confusion_matrix(y_test, y_pred).ravel()\n",
        "sensitivity = (tp / (tp + fn))\n",
        "specificity = (tn / (tn + fp))\n",
        "results = {'accuracy': accuracy, 'precision': precision,\n",
        "               'recall': recall, 'f_measure': f_measure,\n",
        "               'specificity': specificity,\n",
        "               'sensitivity': sensitivity}\n",
        "\n",
        "print(results)\n",
        "\n",
        "y_probas = l_model.predict_proba(X_test);\n",
        "metrics.plot_roc_curve(l_model,X_test,y_test)\n",
        "plt.show()"
      ],
      "execution_count": 76,
      "outputs": [
        {
          "output_type": "stream",
          "text": [
            "{'accuracy': 0.9660910518053375, 'precision': 0.8888888888888888, 'recall': 0.06956521739130435, 'f_measure': 0.12903225806451613, 'specificity': 0.9996742671009772, 'sensitivity': 0.06956521739130435}\n"
          ],
          "name": "stdout"
        },
        {
          "output_type": "display_data",
          "data": {
            "image/png": "[encoded data removed]",
            "text/plain": [
              "<Figure size 432x288 with 1 Axes>"
            ]
          },
          "metadata": {
            "tags": [],
            "needs_background": "light"
          }
        }
      ]
    },
    {
      "cell_type": "markdown",
      "metadata": {
        "id": "GmuIMoig-dKT"
      },
      "source": [
        "The decision tree performs miles better compared to the logistic regression"
      ]
    },
    {
      "cell_type": "markdown",
      "metadata": {
        "id": "mHrOa3HW-wTM"
      },
      "source": [
        "Now we test with a more balanced dataset"
      ]
    },
    {
      "cell_type": "code",
      "metadata": {
        "colab": {
          "base_uri": "https://localhost:8080/",
          "height": 316
        },
        "id": "FWafBeBb-tVN",
        "outputId": "a660759f-8ea7-4306-fa8f-7146398c6ade"
      },
      "source": [
        "l_model.fit(X_train_,y_train_)\n",
        "y_pred = l_model.predict(X_test_)\n",
        "\n",
        "accuracy = metrics.accuracy_score(y_test_, y_pred)\n",
        "precision = metrics.precision_score(y_test_, y_pred)\n",
        "recall = metrics.recall_score(y_test_, y_pred)\n",
        "f_measure = metrics.f1_score(y_test_, y_pred)\n",
        "tn, fp, fn, tp = metrics.confusion_matrix(y_test_, y_pred).ravel()\n",
        "sensitivity = (tp / (tp + fn))\n",
        "specificity = (tn / (tn + fp))\n",
        "results = {'accuracy': accuracy, 'precision': precision,\n",
        "               'recall': recall, 'f_measure': f_measure,\n",
        "               'specificity': specificity,\n",
        "               'sensitivity': sensitivity}\n",
        "\n",
        "print(results)\n",
        "metrics.plot_roc_curve(l_model,X_test_,y_test_)\n",
        "plt.show()"
      ],
      "execution_count": 77,
      "outputs": [
        {
          "output_type": "stream",
          "text": [
            "{'accuracy': 0.9554831704668838, 'precision': 0.9030303030303031, 'recall': 0.9706840390879479, 'f_measure': 0.9356357927786499, 'specificity': 0.9478827361563518, 'sensitivity': 0.9706840390879479}\n"
          ],
          "name": "stdout"
        },
        {
          "output_type": "display_data",
          "data": {
            "image/png": "[encoded data removed]",
            "text/plain": [
              "<Figure size 432x288 with 1 Axes>"
            ]
          },
          "metadata": {
            "tags": [],
            "needs_background": "light"
          }
        }
      ]
    },
    {
      "cell_type": "markdown",
      "metadata": {
        "id": "Z-yKRRuN_BkJ"
      },
      "source": [
        "What's important here is that the balancing of classes has no effect on the performance of the model. If anything, the balancing can at times become less accurate than the imbalanced data."
      ]
    },
    {
      "cell_type": "markdown",
      "metadata": {
        "id": "FAf6r36hGCQr"
      },
      "source": [
        "#### Conclusion"
      ]
    },
    {
      "cell_type": "markdown",
      "metadata": {
        "id": "zWc9snwIGEjG"
      },
      "source": [
        "From the above model, it's clear that  random forest models is best suited to predict a fake review. \n",
        "This is because our dataset comprises largely of categorical data in one way or ther other. This makes the RF algorithm best suited for the task and it's reflected in it's performance."
      ]
    },
    {
      "cell_type": "markdown",
      "metadata": {
        "id": "SSlfFx2wGeFP"
      },
      "source": [
        "#### what to improve in the future"
      ]
    },
    {
      "cell_type": "markdown",
      "metadata": {
        "id": "7fO1tedTHwOc"
      },
      "source": [
        ""
      ]
    },
    {
      "cell_type": "markdown",
      "metadata": {
        "id": "eRX4naToGh4M"
      },
      "source": [
        "Currently, our model can only predict for an amazon product within these three categories, Personal Care Appliances, Mobile accessories, and Health & Personal care. \n",
        "- With more computing power, we could predict for all the amazon categories and come up with a model that can easily identify a fake review from any category. \n",
        "- it's also worth noting that one would want to explore the language used in the review and couple it with this model to come up with a holistic model that can not only predict based on the numeral statistics but also the language used.\n",
        "- This would explan our criteria much further allowing this model to be used not only for amazon reviews but also yelp and other reviewing platforms."
      ]
    }
  ]
}